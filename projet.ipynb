{
 "cells": [
  {
   "cell_type": "code",
   "execution_count": null,
   "metadata": {
    "collapsed": true,
    "pycharm": {
     "is_executing": true
    }
   },
   "outputs": [],
   "source": [
    "from math import exp\n",
    "\n",
    "import matplotlib.pyplot as plt\n",
    "import scipy.integrate as spi\n",
    "import numpy as np\n",
    "#  hoi\n",
    "\n",
    "# y = [V, T, I, F, R, Cn, E, Bn, P, As, Al]\n",
    "\n",
    "V0 = 1e4\n",
    "T0 = 7e7\n",
    "\n",
    "\n",
    "def f(y, t, pv=210, delta_v=5, kl=0.4, beta=5e-7, gt=0.8, T0=10e7, beta_prim=3e-8, rho=2.6, fi=0.33, delta_i=2, kn=2.5,\n",
    "      ke=5e-5, pf=1e-5, delta_f=2, beta_cn=1, hc=1e4, teta_c=6, pc=1.2, delta_e=0.57, beta_bn=0.03, hb=1e4, teta_b=4,\n",
    "      delta_p=0.5, pb=0.52, ps=12, delta_s=2, pl=4, delta_l=0.015):\n",
    "    z = np.zeros(np.size(y))\n",
    "    z[0] = pv * y[2] - delta_v * y[0] - kl * y[9] - beta * y[0] * y[1]\n",
    "    z[1] = gt * (y[1] + y[4]) * (1 - ((y[1] + y[4] + y[2]) / T0)) - beta_prim * y[0] * y[1] + rho * y[4] - fi * y[3] * \\\n",
    "           y[1]\n",
    "    z[2] = beta_prim * y[0] * y[1] - delta_i * y[2] - kn * y[2] * y[3] - ke * y[2] * y[6]\n",
    "    z[3] = pf * y[2] - delta_f * y[3]\n",
    "    z[4] = fi * y[3] * y[1] - rho * y[4]\n",
    "    z[5] = - beta_cn * (y[0] / (y[0] + hc)) * y[5]\n",
    "    z[6] = beta_cn * (y[0] * (t - teta_c) / (y[0] * (t - teta_c) + hc)) * y[5] * (t - teta_c) * exp(\n",
    "        pc * teta_c) - delta_e * y[6]\n",
    "    z[7] = - beta_bn * (y[0] / (y[0] + hb)) * y[7]\n",
    "    z[8] = beta_bn * (y[0] * (t - teta_b) / (y[0] * (t - teta_b) + hb)) * y[7] * (t - teta_b) * exp(\n",
    "        pb * teta_b) - delta_p * y[8]\n",
    "    z[9] = ps * y[8] - delta_s * y[9]\n",
    "    z[10] = pl * y[8] - delta_l * y[10]\n",
    "    return z\n",
    "\n",
    "\n",
    "def afficher():\n",
    "    y0 = np.array([V0, T0, 0, 0, 0, 100, 0, 100, 0, 0, 0])\n",
    "    t0 = 0\n",
    "    T = 6\n",
    "    pas = 0.01\n",
    "    tps = np.arange(t0, T, pas)\n",
    "\n",
    "    y = spi.odeint(f, y0, tps)\n",
    "\n",
    "    for u in range(len(y0)):\n",
    "        plt.plot(tps, y[:, u])\n",
    "    plt.show()\n",
    "\n",
    "\n",
    "afficher()"
   ]
  },
  {
   "cell_type": "code",
   "execution_count": null,
   "outputs": [],
   "source": [],
   "metadata": {
    "collapsed": false
   }
  }
 ],
 "metadata": {
  "kernelspec": {
   "display_name": "Python 3",
   "language": "python",
   "name": "python3"
  },
  "language_info": {
   "codemirror_mode": {
    "name": "ipython",
    "version": 2
   },
   "file_extension": ".py",
   "mimetype": "text/x-python",
   "name": "python",
   "nbconvert_exporter": "python",
   "pygments_lexer": "ipython2",
   "version": "2.7.6"
  }
 },
 "nbformat": 4,
 "nbformat_minor": 0
}
